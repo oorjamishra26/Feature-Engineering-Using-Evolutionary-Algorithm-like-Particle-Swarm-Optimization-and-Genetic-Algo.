{
  "cells": [
    {
      "cell_type": "markdown",
      "source": [
        "# **FEATURE SELECTION USING EVOLUTIONARY TECHNIQUES**"
      ],
      "metadata": {
        "id": "PAS-otg3sonT"
      }
    },
    {
      "cell_type": "markdown",
      "source": [
        "**MNIST DATA SET**"
      ],
      "metadata": {
        "id": "MkZHKuc2C8sd"
      }
    },
    {
      "cell_type": "code",
      "execution_count": null,
      "metadata": {
        "id": "7Bf2pSkrWdw_",
        "colab": {
          "base_uri": "https://localhost:8080/"
        },
        "outputId": "5006c60a-37a5-43a7-c758-2a7b8c01a2e1"
      },
      "outputs": [
        {
          "output_type": "stream",
          "name": "stdout",
          "text": [
            "Downloading data from https://storage.googleapis.com/tensorflow/tf-keras-datasets/mnist.npz\n",
            "11490434/11490434 [==============================] - 0s 0us/step\n"
          ]
        }
      ],
      "source": [
        "import numpy as np\n",
        "import tensorflow as tf\n",
        "from sklearn.ensemble import RandomForestClassifier\n",
        "from sklearn.metrics import accuracy_score\n",
        "mnist = tf.keras.datasets.mnist\n",
        "(X_train, y_train), (X_test, y_test) = mnist.load_data()\n",
        "X_train, X_test = X_train/255.0, X_test/255.0\n",
        "X_train = X_train.reshape((X_train.shape[0], -1))\n",
        "X_test = X_test.reshape((X_test.shape[0], -1))\n",
        "\n",
        "# Convert labels to 1D array\n",
        "y_train = y_train.flatten()\n",
        "y_test = y_test.flatten()\n",
        "\n",
        "# Step 1: Random shuffle\n",
        "indices = np.arange(len(X_train))\n",
        "np.random.shuffle(indices)\n",
        "X_train_shuffled = X_train[indices]\n",
        "y_train_shuffled = y_train[indices]\n",
        "\n"
      ]
    },
    {
      "cell_type": "markdown",
      "source": [
        "**NO Faeture Selection**"
      ],
      "metadata": {
        "id": "d61jh-yjsylj"
      }
    },
    {
      "cell_type": "code",
      "execution_count": null,
      "metadata": {
        "colab": {
          "base_uri": "https://localhost:8080/"
        },
        "id": "SDbUB75AyTnT",
        "outputId": "86c4559b-de43-40d6-c130-3c0da441a41f"
      },
      "outputs": [
        {
          "output_type": "stream",
          "name": "stdout",
          "text": [
            "Baseline accuracy: 0.4654\n"
          ]
        }
      ],
      "source": [
        "from sklearn.ensemble import RandomForestClassifier\n",
        "from sklearn.metrics import accuracy_score\n",
        "\n",
        "# Initialize and train a baseline classifier using all features\n",
        "baseline_classifier = RandomForestClassifier(n_estimators=100, random_state=42)\n",
        "baseline_classifier.fit(X_train, y_train)\n",
        "\n",
        "# Predict labels on the test set using the trained baseline classifier\n",
        "y_pred_baseline = baseline_classifier.predict(X_test)\n",
        "\n",
        "# Calculate accuracy of the baseline classifier on the test set\n",
        "baseline_accuracy = accuracy_score(y_test, y_pred_baseline)\n",
        "\n",
        "print(\"Baseline accuracy:\", baseline_accuracy)\n"
      ]
    },
    {
      "cell_type": "markdown",
      "source": [
        "**Particle Swarm Optimization**"
      ],
      "metadata": {
        "id": "8cKJAfdfs3C-"
      }
    },
    {
      "cell_type": "code",
      "execution_count": null,
      "metadata": {
        "colab": {
          "base_uri": "https://localhost:8080/"
        },
        "id": "cmFeNzU8hNK7",
        "outputId": "914c3ed7-71cd-4185-ae0e-48bf939f8f7f"
      },
      "outputs": [
        {
          "name": "stdout",
          "output_type": "stream",
          "text": [
            "Test accuracy with selected features: 0.9649\n"
          ]
        }
      ],
      "source": [
        "#PSO\n",
        "import numpy as np\n",
        "import tensorflow as tf\n",
        "from sklearn.ensemble import RandomForestClassifier\n",
        "from sklearn.metrics import accuracy_score\n",
        "\n",
        "# Load MNIST dataset\n",
        "mnist = tf.keras.datasets.mnist\n",
        "(X_train, y_train), (X_test, y_test) = mnist.load_data()\n",
        "\n",
        "# Reshape images to vectors\n",
        "X_train = X_train.reshape((X_train.shape[0], -1))\n",
        "X_test = X_test.reshape((X_test.shape[0], -1))\n",
        "\n",
        "# Convert labels to 1D array\n",
        "y_train = y_train.flatten()\n",
        "y_test = y_test.flatten()\n",
        "\n",
        "# Random shuffle\n",
        "indices = np.arange(len(X_train))\n",
        "np.random.shuffle(indices)\n",
        "X_train_shuffled = X_train[indices]\n",
        "y_train_shuffled = y_train[indices]\n",
        "\n",
        "def fitness_function(feature_subset):\n",
        "    model = RandomForestClassifier(n_estimators=100, random_state=42)\n",
        "    model.fit(X_train_shuffled[:, feature_subset], y_train_shuffled)\n",
        "    y_pred = model.predict(X_test[:, feature_subset])\n",
        "    accuracy = accuracy_score(y_test, y_pred)\n",
        "    return accuracy\n",
        "\n",
        "num_particles = 7\n",
        "num_features = X_train.shape[1]\n",
        "max_iter = 4\n",
        "w = 0.5  # Inertia weight\n",
        "c1 = 2.0  # Cognitive weight\n",
        "c2 = 2.0  # Social weight\n",
        "\n",
        "# Initialize particle positions and velocities\n",
        "particles_position = np.random.randint(2, size=(num_particles, num_features))  # Binary array indicating selected features\n",
        "particles_velocity = np.random.uniform(-1, 1, size=(num_particles, num_features))\n",
        "\n",
        "# Initialize personal best positions and fitness values\n",
        "personal_best_position = particles_position.copy()\n",
        "personal_best_fitness = np.zeros(num_particles)\n",
        "\n",
        "# Initialize global best position and fitness value\n",
        "global_best_position = np.zeros(num_features)\n",
        "global_best_fitness = 0.0\n",
        "\n",
        "# PSO algorithm\n",
        "for iteration in range(max_iter):\n",
        "    for i in range(num_particles):\n",
        "        # Evaluate fitness of current particle\n",
        "        fitness = fitness_function(particles_position[i])\n",
        "\n",
        "        # Update personal best position and fitness\n",
        "        if fitness > personal_best_fitness[i]:\n",
        "            personal_best_fitness[i] = fitness\n",
        "            personal_best_position[i] = particles_position[i]\n",
        "\n",
        "        # Update global best position and fitness\n",
        "        if fitness > global_best_fitness:\n",
        "            global_best_fitness = fitness\n",
        "            global_best_position = particles_position[i]\n",
        "\n",
        "    # Update particle velocities and positions\n",
        "    for i in range(num_particles):\n",
        "        r1 = np.random.rand(num_features)\n",
        "        r2 = np.random.rand(num_features)\n",
        "        particles_velocity[i] = (w * particles_velocity[i] +\n",
        "                                 c1 * r1 * (personal_best_position[i] - particles_position[i]) +\n",
        "                                 c2 * r2 * (global_best_position - particles_position[i]))\n",
        "        particles_position[i] = np.round(1 / (1 + np.exp(-particles_velocity[i])))\n",
        "\n",
        "# Extract selected features from global best position\n",
        "selected_features = np.where(global_best_position == 1)[0]\n",
        "\n",
        "# Train final classifier using selected features\n",
        "final_classifier = RandomForestClassifier(n_estimators=100, random_state=42)\n",
        "final_classifier.fit(X_train_shuffled[:, selected_features], y_train_shuffled)\n",
        "\n",
        "# Evaluate final classifier on test set\n",
        "y_pred_test = final_classifier.predict(X_test[:, selected_features])\n",
        "test_accuracy = accuracy_score(y_test, y_pred_test)\n",
        "print(\"Test accuracy with selected features:\", test_accuracy)\n"
      ]
    },
    {
      "cell_type": "markdown",
      "source": [
        "Genetic Algorithm"
      ],
      "metadata": {
        "id": "n-JuJrp8DCbd"
      }
    },
    {
      "cell_type": "code",
      "execution_count": null,
      "metadata": {
        "colab": {
          "base_uri": "https://localhost:8080/"
        },
        "id": "z_qEwIDYgyMX",
        "outputId": "b73deab6-aab1-4cc0-c281-ed7f74fba568"
      },
      "outputs": [
        {
          "output_type": "stream",
          "name": "stdout",
          "text": [
            "Generation: 0\n",
            "Generation: 1\n",
            "Accuracy: 0.9423\n"
          ]
        }
      ],
      "source": [
        "#GA\n",
        "import numpy as np\n",
        "import random\n",
        "from sklearn.svm import SVC\n",
        "from sklearn.metrics import accuracy_score\n",
        "from sklearn.model_selection import train_test_split\n",
        "\n",
        "# Load MNIST dataset\n",
        "mnist = tf.keras.datasets.mnist\n",
        "(X_train, y_train), (X_test, y_test) = mnist.load_data()\n",
        "X_train, X_test = X_train / 255.0, X_test / 255.0\n",
        "X_train = X_train.reshape((X_train.shape[0], -1))\n",
        "X_test = X_test.reshape((X_test.shape[0], -1))\n",
        "\n",
        "# Convert labels to 1D array\n",
        "y_train = y_train.flatten()\n",
        "y_test = y_test.flatten()\n",
        "\n",
        "# Genetic Algorithm Parameters\n",
        "POPULATION_SIZE = 20\n",
        "GENES_SIZE = X_train.shape[1]\n",
        "MUTATION_RATE = 0.1\n",
        "GENERATIONS = 2\n",
        "\n",
        "def create_individual():\n",
        "    return np.random.choice([0, 1], size=GENES_SIZE)\n",
        "\n",
        "def fitness(individual, X_train, X_test, y_train, y_test):\n",
        "    selected_features = X_train[:, individual == 1]\n",
        "    clf = SVC(kernel='linear')\n",
        "    clf.fit(selected_features, y_train)\n",
        "    selected_test_features = X_test[:, individual == 1]\n",
        "    y_pred = clf.predict(selected_test_features)\n",
        "    return accuracy_score(y_test, y_pred)\n",
        "\n",
        "def crossover(parent1, parent2):\n",
        "    crossover_point = random.randint(0, GENES_SIZE)\n",
        "    child1 = np.concatenate((parent1[:crossover_point], parent2[crossover_point:]))\n",
        "    child2 = np.concatenate((parent2[:crossover_point], parent1[crossover_point:]))\n",
        "    return child1, child2\n",
        "\n",
        "def mutate(individual):\n",
        "    for i in range(len(individual)):\n",
        "        if random.random() < MUTATION_RATE:\n",
        "            individual[i] = 1 - individual[i]\n",
        "    return individual\n",
        "\n",
        "# Initialize population\n",
        "population = [create_individual() for _ in range(POPULATION_SIZE)]\n",
        "\n",
        "# Main genetic algorithm loop\n",
        "for generation in range(GENERATIONS):\n",
        "    print(\"Generation:\", generation)\n",
        "    fitness_scores = [fitness(individual, X_train, X_test, y_train, y_test) for individual in population]\n",
        "\n",
        "    # Select best individuals\n",
        "    sorted_population = [x for _, x in sorted(zip(fitness_scores, population), key=lambda pair: pair[0], reverse=True)]\n",
        "    top_individuals = sorted_population[:int(0.2 * POPULATION_SIZE)]\n",
        "\n",
        "    # Create next generation\n",
        "    next_generation = top_individuals.copy()\n",
        "\n",
        "    # Crossover and mutate\n",
        "    while len(next_generation) < POPULATION_SIZE:\n",
        "        parent1, parent2 = random.sample(top_individuals, 2)\n",
        "        child1, child2 = crossover(parent1, parent2)\n",
        "        child1 = mutate(child1)\n",
        "        child2 = mutate(child2)\n",
        "        next_generation.extend([child1, child2])\n",
        "\n",
        "    population = next_generation\n",
        "\n",
        "# Get the best individual from the final population\n",
        "best_individual = max(population, key=lambda individual: fitness(individual, X_train, X_test, y_train, y_test))\n",
        "selected_features_indices = np.where(best_individual == 1)[0]\n",
        "\n",
        "# Train SVM classifier with selected features\n",
        "selected_features_train = X_train[:, selected_features_indices]\n",
        "selected_features_test = X_test[:, selected_features_indices]\n",
        "clf = SVC(kernel='linear')\n",
        "clf.fit(selected_features_train, y_train)\n",
        "y_pred = clf.predict(selected_features_test)\n",
        "\n",
        "# Calculate accuracy\n",
        "accuracyga = accuracy_score(y_test, y_pred)\n",
        "print(\"Accuracy:\", accuracyga)\n"
      ]
    },
    {
      "cell_type": "code",
      "source": [
        "pip install pyswarms"
      ],
      "metadata": {
        "colab": {
          "base_uri": "https://localhost:8080/"
        },
        "id": "ivHm7qA5jUck",
        "outputId": "406c0c25-8b34-4324-c633-2a8a5034d1a2"
      },
      "execution_count": null,
      "outputs": [
        {
          "output_type": "stream",
          "name": "stdout",
          "text": [
            "Collecting pyswarms\n",
            "  Downloading pyswarms-1.3.0-py2.py3-none-any.whl (104 kB)\n",
            "\u001b[?25l     \u001b[90m━━━━━━━━━━━━━━━━━━━━━━━━━━━━━━━━━━━━━━━━\u001b[0m \u001b[32m0.0/104.1 kB\u001b[0m \u001b[31m?\u001b[0m eta \u001b[36m-:--:--\u001b[0m\r\u001b[2K     \u001b[91m━━━━━━━━━━━━━━━━━━━━━━━━━━━━━━━━━━━━━━━\u001b[0m\u001b[90m╺\u001b[0m \u001b[32m102.4/104.1 kB\u001b[0m \u001b[31m3.3 MB/s\u001b[0m eta \u001b[36m0:00:01\u001b[0m\r\u001b[2K     \u001b[90m━━━━━━━━━━━━━━━━━━━━━━━━━━━━━━━━━━━━━━━━\u001b[0m \u001b[32m104.1/104.1 kB\u001b[0m \u001b[31m2.5 MB/s\u001b[0m eta \u001b[36m0:00:00\u001b[0m\n",
            "\u001b[?25hRequirement already satisfied: scipy in /usr/local/lib/python3.10/dist-packages (from pyswarms) (1.11.4)\n",
            "Requirement already satisfied: numpy in /usr/local/lib/python3.10/dist-packages (from pyswarms) (1.25.2)\n",
            "Requirement already satisfied: matplotlib>=1.3.1 in /usr/local/lib/python3.10/dist-packages (from pyswarms) (3.7.1)\n",
            "Requirement already satisfied: attrs in /usr/local/lib/python3.10/dist-packages (from pyswarms) (23.2.0)\n",
            "Requirement already satisfied: tqdm in /usr/local/lib/python3.10/dist-packages (from pyswarms) (4.66.2)\n",
            "Requirement already satisfied: future in /usr/local/lib/python3.10/dist-packages (from pyswarms) (0.18.3)\n",
            "Requirement already satisfied: pyyaml in /usr/local/lib/python3.10/dist-packages (from pyswarms) (6.0.1)\n",
            "Requirement already satisfied: contourpy>=1.0.1 in /usr/local/lib/python3.10/dist-packages (from matplotlib>=1.3.1->pyswarms) (1.2.0)\n",
            "Requirement already satisfied: cycler>=0.10 in /usr/local/lib/python3.10/dist-packages (from matplotlib>=1.3.1->pyswarms) (0.12.1)\n",
            "Requirement already satisfied: fonttools>=4.22.0 in /usr/local/lib/python3.10/dist-packages (from matplotlib>=1.3.1->pyswarms) (4.50.0)\n",
            "Requirement already satisfied: kiwisolver>=1.0.1 in /usr/local/lib/python3.10/dist-packages (from matplotlib>=1.3.1->pyswarms) (1.4.5)\n",
            "Requirement already satisfied: packaging>=20.0 in /usr/local/lib/python3.10/dist-packages (from matplotlib>=1.3.1->pyswarms) (24.0)\n",
            "Requirement already satisfied: pillow>=6.2.0 in /usr/local/lib/python3.10/dist-packages (from matplotlib>=1.3.1->pyswarms) (9.4.0)\n",
            "Requirement already satisfied: pyparsing>=2.3.1 in /usr/local/lib/python3.10/dist-packages (from matplotlib>=1.3.1->pyswarms) (3.1.2)\n",
            "Requirement already satisfied: python-dateutil>=2.7 in /usr/local/lib/python3.10/dist-packages (from matplotlib>=1.3.1->pyswarms) (2.8.2)\n",
            "Requirement already satisfied: six>=1.5 in /usr/local/lib/python3.10/dist-packages (from python-dateutil>=2.7->matplotlib>=1.3.1->pyswarms) (1.16.0)\n",
            "Installing collected packages: pyswarms\n",
            "Successfully installed pyswarms-1.3.0\n"
          ]
        }
      ]
    },
    {
      "cell_type": "code",
      "source": [
        "pip install genetic_algorithm"
      ],
      "metadata": {
        "colab": {
          "base_uri": "https://localhost:8080/"
        },
        "id": "3XhO-_l4_wL7",
        "outputId": "735b7917-4536-425b-df07-af2b7b91d2af"
      },
      "execution_count": null,
      "outputs": [
        {
          "output_type": "stream",
          "name": "stdout",
          "text": [
            "Collecting genetic_algorithm\n",
            "  Downloading genetic_algorithm-1.0.0.tar.gz (6.9 kB)\n",
            "  Preparing metadata (setup.py) ... \u001b[?25l\u001b[?25hdone\n",
            "Requirement already satisfied: numpy in /usr/local/lib/python3.10/dist-packages (from genetic_algorithm) (1.25.2)\n",
            "Requirement already satisfied: pandas in /usr/local/lib/python3.10/dist-packages (from genetic_algorithm) (1.5.3)\n",
            "Requirement already satisfied: scipy in /usr/local/lib/python3.10/dist-packages (from genetic_algorithm) (1.11.4)\n",
            "Requirement already satisfied: python-dateutil>=2.8.1 in /usr/local/lib/python3.10/dist-packages (from pandas->genetic_algorithm) (2.8.2)\n",
            "Requirement already satisfied: pytz>=2020.1 in /usr/local/lib/python3.10/dist-packages (from pandas->genetic_algorithm) (2023.4)\n",
            "Requirement already satisfied: six>=1.5 in /usr/local/lib/python3.10/dist-packages (from python-dateutil>=2.8.1->pandas->genetic_algorithm) (1.16.0)\n",
            "Building wheels for collected packages: genetic_algorithm\n",
            "  Building wheel for genetic_algorithm (setup.py) ... \u001b[?25l\u001b[?25hdone\n",
            "  Created wheel for genetic_algorithm: filename=genetic_algorithm-1.0.0-py3-none-any.whl size=7616 sha256=a06fb37014b3cb732ea03a29a96a72632ac4de60f6ee69e00473eabfc5e304a7\n",
            "  Stored in directory: /root/.cache/pip/wheels/4c/2c/bf/9c1f04950777c3f6a9d18237af6a2d3b7679aec18ff6a3b6be\n",
            "Successfully built genetic_algorithm\n",
            "Installing collected packages: genetic_algorithm\n",
            "Successfully installed genetic_algorithm-1.0.0\n"
          ]
        }
      ]
    },
    {
      "cell_type": "code",
      "source": [
        "import matplotlib.pyplot as plt\n",
        "\n",
        "# Accuracy values\n",
        "accuracies = {\n",
        "    \"No Feature Selection\": 0.4654,\n",
        "    \"PSO\": 0.9649,\n",
        "    \"GA\": 0.9423\n",
        "}\n",
        "\n",
        "# Create bar graph\n",
        "plt.figure(figsize=(10, 6))\n",
        "plt.bar(accuracies.keys(), accuracies.values(), color=['blue', 'orange', 'green', 'red'])\n",
        "plt.title('Comparison of Accuracies')\n",
        "plt.xlabel('Method')\n",
        "plt.ylabel('Accuracy')\n",
        "plt.ylim(0, 1)  # Set y-axis limit\n",
        "plt.xticks(rotation=45)\n",
        "plt.grid(axis='y')\n",
        "\n",
        "# Add text labels\n",
        "for i, acc in enumerate(accuracies.values()):\n",
        "    plt.text(i, acc, str(acc), ha='center', va='bottom')\n",
        "\n",
        "# Show plot\n",
        "plt.tight_layout()\n",
        "plt.show()\n"
      ],
      "metadata": {
        "colab": {
          "base_uri": "https://localhost:8080/",
          "height": 607
        },
        "id": "pab1k4MglXcO",
        "outputId": "f4d6ab8e-503b-4bd0-bedd-6c34c1484824"
      },
      "execution_count": 1,
      "outputs": [
        {
          "output_type": "display_data",
          "data": {
            "text/plain": [
              "<Figure size 1000x600 with 1 Axes>"
            ],
            "image/png": "[encoded data removed]"
          },
          "metadata": {}
        }
      ]
    },
    {
      "cell_type": "code",
      "source": [
        "import numpy as np\n",
        "import seaborn as sns\n",
        "import matplotlib.pyplot as plt\n",
        "\n",
        "# Given accuracies\n",
        "accuracies = {\n",
        "    \"No Feature Selection\": 0.4654,\n",
        "    \"PSO\": 0.9649,\n",
        "    \"GA\": 0.9423,\n",
        "    \"Hybrid\": 0.9683\n",
        "}\n",
        "\n",
        "# Convert accuracies dictionary to lists for plotting\n",
        "methods = list(accuracies.keys())\n",
        "accuracy_values = list(accuracies.values())\n",
        "\n",
        "\n",
        "# Create Heatmap\n",
        "plt.figure(figsize=(8, 6))\n",
        "sns.heatmap(np.array([accuracy_values]), annot=True, cmap=\"YlGnBu\", yticklabels=False)\n",
        "plt.title('Accuracy Heatmap')\n",
        "plt.xlabel('Feature Selection Technique')\n",
        "plt.ylabel('Accuracy')\n",
        "plt.show()\n"
      ],
      "metadata": {
        "colab": {
          "base_uri": "https://localhost:8080/",
          "height": 564
        },
        "id": "UkHhcsvs16pA",
        "outputId": "8be43b7d-a7e6-43e1-9ac5-c28f916de2ea"
      },
      "execution_count": null,
      "outputs": [
        {
          "output_type": "display_data",
          "data": {
            "text/plain": [
              "<Figure size 800x600 with 2 Axes>"
            ],
            "image/png": "[encoded data removed]"
          },
          "metadata": {}
        }
      ]
    }
  ],
  "metadata": {
    "colab": {
      "provenance": []
    },
    "kernelspec": {
      "display_name": "Python 3",
      "name": "python3"
    },
    "language_info": {
      "name": "python"
    }
  },
  "nbformat": 4,
  "nbformat_minor": 0
}